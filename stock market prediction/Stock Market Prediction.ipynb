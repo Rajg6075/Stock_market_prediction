{
 "cells": [
  {
   "cell_type": "markdown",
   "id": "78cb3e19",
   "metadata": {},
   "source": [
    "### Stock Market Prediction using Stacked LSTM"
   ]
  },
  {
   "cell_type": "code",
   "execution_count": 37,
   "id": "c7ba1096",
   "metadata": {},
   "outputs": [],
   "source": [
    "#import library\n",
    "import pandas as pd\n",
    "import matplotlib.pyplot as plt\n",
    "import numpy as np\n",
    "from sklearn.preprocessing import MinMaxScaler"
   ]
  },
  {
   "cell_type": "code",
   "execution_count": 38,
   "id": "129c273a",
   "metadata": {},
   "outputs": [],
   "source": [
    "#LOAD DATA\n",
    "data= pd.read_csv('NFLX.csv')"
   ]
  },
  {
   "cell_type": "code",
   "execution_count": 39,
   "id": "733c1bb7",
   "metadata": {},
   "outputs": [
    {
     "data": {
      "text/html": [
       "<div>\n",
       "<style scoped>\n",
       "    .dataframe tbody tr th:only-of-type {\n",
       "        vertical-align: middle;\n",
       "    }\n",
       "\n",
       "    .dataframe tbody tr th {\n",
       "        vertical-align: top;\n",
       "    }\n",
       "\n",
       "    .dataframe thead th {\n",
       "        text-align: right;\n",
       "    }\n",
       "</style>\n",
       "<table border=\"1\" class=\"dataframe\">\n",
       "  <thead>\n",
       "    <tr style=\"text-align: right;\">\n",
       "      <th></th>\n",
       "      <th>Date</th>\n",
       "      <th>Open</th>\n",
       "      <th>High</th>\n",
       "      <th>Low</th>\n",
       "      <th>Close</th>\n",
       "      <th>Adj Close</th>\n",
       "      <th>Volume</th>\n",
       "    </tr>\n",
       "  </thead>\n",
       "  <tbody>\n",
       "    <tr>\n",
       "      <th>0</th>\n",
       "      <td>2018-02-05</td>\n",
       "      <td>262.000000</td>\n",
       "      <td>267.899994</td>\n",
       "      <td>250.029999</td>\n",
       "      <td>254.259995</td>\n",
       "      <td>254.259995</td>\n",
       "      <td>11896100</td>\n",
       "    </tr>\n",
       "    <tr>\n",
       "      <th>1</th>\n",
       "      <td>2018-02-06</td>\n",
       "      <td>247.699997</td>\n",
       "      <td>266.700012</td>\n",
       "      <td>245.000000</td>\n",
       "      <td>265.720001</td>\n",
       "      <td>265.720001</td>\n",
       "      <td>12595800</td>\n",
       "    </tr>\n",
       "    <tr>\n",
       "      <th>2</th>\n",
       "      <td>2018-02-07</td>\n",
       "      <td>266.579987</td>\n",
       "      <td>272.450012</td>\n",
       "      <td>264.329987</td>\n",
       "      <td>264.559998</td>\n",
       "      <td>264.559998</td>\n",
       "      <td>8981500</td>\n",
       "    </tr>\n",
       "    <tr>\n",
       "      <th>3</th>\n",
       "      <td>2018-02-08</td>\n",
       "      <td>267.079987</td>\n",
       "      <td>267.619995</td>\n",
       "      <td>250.000000</td>\n",
       "      <td>250.100006</td>\n",
       "      <td>250.100006</td>\n",
       "      <td>9306700</td>\n",
       "    </tr>\n",
       "    <tr>\n",
       "      <th>4</th>\n",
       "      <td>2018-02-09</td>\n",
       "      <td>253.850006</td>\n",
       "      <td>255.800003</td>\n",
       "      <td>236.110001</td>\n",
       "      <td>249.470001</td>\n",
       "      <td>249.470001</td>\n",
       "      <td>16906900</td>\n",
       "    </tr>\n",
       "  </tbody>\n",
       "</table>\n",
       "</div>"
      ],
      "text/plain": [
       "         Date        Open        High         Low       Close   Adj Close  \\\n",
       "0  2018-02-05  262.000000  267.899994  250.029999  254.259995  254.259995   \n",
       "1  2018-02-06  247.699997  266.700012  245.000000  265.720001  265.720001   \n",
       "2  2018-02-07  266.579987  272.450012  264.329987  264.559998  264.559998   \n",
       "3  2018-02-08  267.079987  267.619995  250.000000  250.100006  250.100006   \n",
       "4  2018-02-09  253.850006  255.800003  236.110001  249.470001  249.470001   \n",
       "\n",
       "     Volume  \n",
       "0  11896100  \n",
       "1  12595800  \n",
       "2   8981500  \n",
       "3   9306700  \n",
       "4  16906900  "
      ]
     },
     "execution_count": 39,
     "metadata": {},
     "output_type": "execute_result"
    }
   ],
   "source": [
    "data.head()"
   ]
  },
  {
   "cell_type": "code",
   "execution_count": 40,
   "id": "aff24991",
   "metadata": {},
   "outputs": [
    {
     "name": "stdout",
     "output_type": "stream",
     "text": [
      "<class 'pandas.core.frame.DataFrame'>\n",
      "RangeIndex: 1009 entries, 0 to 1008\n",
      "Data columns (total 7 columns):\n",
      " #   Column     Non-Null Count  Dtype  \n",
      "---  ------     --------------  -----  \n",
      " 0   Date       1009 non-null   object \n",
      " 1   Open       1009 non-null   float64\n",
      " 2   High       1009 non-null   float64\n",
      " 3   Low        1009 non-null   float64\n",
      " 4   Close      1009 non-null   float64\n",
      " 5   Adj Close  1009 non-null   float64\n",
      " 6   Volume     1009 non-null   int64  \n",
      "dtypes: float64(5), int64(1), object(1)\n",
      "memory usage: 55.3+ KB\n"
     ]
    }
   ],
   "source": [
    "data.info()"
   ]
  },
  {
   "cell_type": "code",
   "execution_count": 41,
   "id": "94a0c32a",
   "metadata": {},
   "outputs": [
    {
     "data": {
      "text/html": [
       "<div>\n",
       "<style scoped>\n",
       "    .dataframe tbody tr th:only-of-type {\n",
       "        vertical-align: middle;\n",
       "    }\n",
       "\n",
       "    .dataframe tbody tr th {\n",
       "        vertical-align: top;\n",
       "    }\n",
       "\n",
       "    .dataframe thead th {\n",
       "        text-align: right;\n",
       "    }\n",
       "</style>\n",
       "<table border=\"1\" class=\"dataframe\">\n",
       "  <thead>\n",
       "    <tr style=\"text-align: right;\">\n",
       "      <th></th>\n",
       "      <th>Open</th>\n",
       "      <th>High</th>\n",
       "      <th>Low</th>\n",
       "      <th>Close</th>\n",
       "      <th>Adj Close</th>\n",
       "      <th>Volume</th>\n",
       "    </tr>\n",
       "  </thead>\n",
       "  <tbody>\n",
       "    <tr>\n",
       "      <th>count</th>\n",
       "      <td>1009.000000</td>\n",
       "      <td>1009.000000</td>\n",
       "      <td>1009.000000</td>\n",
       "      <td>1009.000000</td>\n",
       "      <td>1009.000000</td>\n",
       "      <td>1.009000e+03</td>\n",
       "    </tr>\n",
       "    <tr>\n",
       "      <th>mean</th>\n",
       "      <td>419.059673</td>\n",
       "      <td>425.320703</td>\n",
       "      <td>412.374044</td>\n",
       "      <td>419.000733</td>\n",
       "      <td>419.000733</td>\n",
       "      <td>7.570685e+06</td>\n",
       "    </tr>\n",
       "    <tr>\n",
       "      <th>std</th>\n",
       "      <td>108.537532</td>\n",
       "      <td>109.262960</td>\n",
       "      <td>107.555867</td>\n",
       "      <td>108.289999</td>\n",
       "      <td>108.289999</td>\n",
       "      <td>5.465535e+06</td>\n",
       "    </tr>\n",
       "    <tr>\n",
       "      <th>min</th>\n",
       "      <td>233.919998</td>\n",
       "      <td>250.649994</td>\n",
       "      <td>231.229996</td>\n",
       "      <td>233.880005</td>\n",
       "      <td>233.880005</td>\n",
       "      <td>1.144000e+06</td>\n",
       "    </tr>\n",
       "    <tr>\n",
       "      <th>25%</th>\n",
       "      <td>331.489990</td>\n",
       "      <td>336.299988</td>\n",
       "      <td>326.000000</td>\n",
       "      <td>331.619995</td>\n",
       "      <td>331.619995</td>\n",
       "      <td>4.091900e+06</td>\n",
       "    </tr>\n",
       "    <tr>\n",
       "      <th>50%</th>\n",
       "      <td>377.769989</td>\n",
       "      <td>383.010010</td>\n",
       "      <td>370.880005</td>\n",
       "      <td>378.670013</td>\n",
       "      <td>378.670013</td>\n",
       "      <td>5.934500e+06</td>\n",
       "    </tr>\n",
       "    <tr>\n",
       "      <th>75%</th>\n",
       "      <td>509.130005</td>\n",
       "      <td>515.630005</td>\n",
       "      <td>502.529999</td>\n",
       "      <td>509.079987</td>\n",
       "      <td>509.079987</td>\n",
       "      <td>9.322400e+06</td>\n",
       "    </tr>\n",
       "    <tr>\n",
       "      <th>max</th>\n",
       "      <td>692.349976</td>\n",
       "      <td>700.989990</td>\n",
       "      <td>686.090027</td>\n",
       "      <td>691.690002</td>\n",
       "      <td>691.690002</td>\n",
       "      <td>5.890430e+07</td>\n",
       "    </tr>\n",
       "  </tbody>\n",
       "</table>\n",
       "</div>"
      ],
      "text/plain": [
       "              Open         High          Low        Close    Adj Close  \\\n",
       "count  1009.000000  1009.000000  1009.000000  1009.000000  1009.000000   \n",
       "mean    419.059673   425.320703   412.374044   419.000733   419.000733   \n",
       "std     108.537532   109.262960   107.555867   108.289999   108.289999   \n",
       "min     233.919998   250.649994   231.229996   233.880005   233.880005   \n",
       "25%     331.489990   336.299988   326.000000   331.619995   331.619995   \n",
       "50%     377.769989   383.010010   370.880005   378.670013   378.670013   \n",
       "75%     509.130005   515.630005   502.529999   509.079987   509.079987   \n",
       "max     692.349976   700.989990   686.090027   691.690002   691.690002   \n",
       "\n",
       "             Volume  \n",
       "count  1.009000e+03  \n",
       "mean   7.570685e+06  \n",
       "std    5.465535e+06  \n",
       "min    1.144000e+06  \n",
       "25%    4.091900e+06  \n",
       "50%    5.934500e+06  \n",
       "75%    9.322400e+06  \n",
       "max    5.890430e+07  "
      ]
     },
     "execution_count": 41,
     "metadata": {},
     "output_type": "execute_result"
    }
   ],
   "source": [
    "data.describe()"
   ]
  },
  {
   "cell_type": "code",
   "execution_count": 42,
   "id": "a46d1a94",
   "metadata": {},
   "outputs": [
    {
     "data": {
      "text/html": [
       "<div>\n",
       "<style scoped>\n",
       "    .dataframe tbody tr th:only-of-type {\n",
       "        vertical-align: middle;\n",
       "    }\n",
       "\n",
       "    .dataframe tbody tr th {\n",
       "        vertical-align: top;\n",
       "    }\n",
       "\n",
       "    .dataframe thead th {\n",
       "        text-align: right;\n",
       "    }\n",
       "</style>\n",
       "<table border=\"1\" class=\"dataframe\">\n",
       "  <thead>\n",
       "    <tr style=\"text-align: right;\">\n",
       "      <th></th>\n",
       "      <th>Date</th>\n",
       "      <th>Open</th>\n",
       "      <th>High</th>\n",
       "      <th>Low</th>\n",
       "      <th>Close</th>\n",
       "      <th>Adj Close</th>\n",
       "      <th>Volume</th>\n",
       "    </tr>\n",
       "  </thead>\n",
       "  <tbody>\n",
       "    <tr>\n",
       "      <th>1004</th>\n",
       "      <td>2022-01-31</td>\n",
       "      <td>401.970001</td>\n",
       "      <td>427.700012</td>\n",
       "      <td>398.200012</td>\n",
       "      <td>427.140015</td>\n",
       "      <td>427.140015</td>\n",
       "      <td>20047500</td>\n",
       "    </tr>\n",
       "    <tr>\n",
       "      <th>1005</th>\n",
       "      <td>2022-02-01</td>\n",
       "      <td>432.959991</td>\n",
       "      <td>458.480011</td>\n",
       "      <td>425.540009</td>\n",
       "      <td>457.130005</td>\n",
       "      <td>457.130005</td>\n",
       "      <td>22542300</td>\n",
       "    </tr>\n",
       "    <tr>\n",
       "      <th>1006</th>\n",
       "      <td>2022-02-02</td>\n",
       "      <td>448.250000</td>\n",
       "      <td>451.980011</td>\n",
       "      <td>426.480011</td>\n",
       "      <td>429.480011</td>\n",
       "      <td>429.480011</td>\n",
       "      <td>14346000</td>\n",
       "    </tr>\n",
       "    <tr>\n",
       "      <th>1007</th>\n",
       "      <td>2022-02-03</td>\n",
       "      <td>421.440002</td>\n",
       "      <td>429.260010</td>\n",
       "      <td>404.279999</td>\n",
       "      <td>405.600006</td>\n",
       "      <td>405.600006</td>\n",
       "      <td>9905200</td>\n",
       "    </tr>\n",
       "    <tr>\n",
       "      <th>1008</th>\n",
       "      <td>2022-02-04</td>\n",
       "      <td>407.309998</td>\n",
       "      <td>412.769989</td>\n",
       "      <td>396.640015</td>\n",
       "      <td>410.170013</td>\n",
       "      <td>410.170013</td>\n",
       "      <td>7782400</td>\n",
       "    </tr>\n",
       "  </tbody>\n",
       "</table>\n",
       "</div>"
      ],
      "text/plain": [
       "            Date        Open        High         Low       Close   Adj Close  \\\n",
       "1004  2022-01-31  401.970001  427.700012  398.200012  427.140015  427.140015   \n",
       "1005  2022-02-01  432.959991  458.480011  425.540009  457.130005  457.130005   \n",
       "1006  2022-02-02  448.250000  451.980011  426.480011  429.480011  429.480011   \n",
       "1007  2022-02-03  421.440002  429.260010  404.279999  405.600006  405.600006   \n",
       "1008  2022-02-04  407.309998  412.769989  396.640015  410.170013  410.170013   \n",
       "\n",
       "        Volume  \n",
       "1004  20047500  \n",
       "1005  22542300  \n",
       "1006  14346000  \n",
       "1007   9905200  \n",
       "1008   7782400  "
      ]
     },
     "execution_count": 42,
     "metadata": {},
     "output_type": "execute_result"
    }
   ],
   "source": [
    "data.tail()"
   ]
  },
  {
   "cell_type": "code",
   "execution_count": 43,
   "id": "3084bb5a",
   "metadata": {},
   "outputs": [
    {
     "data": {
      "text/plain": [
       "Date         0\n",
       "Open         0\n",
       "High         0\n",
       "Low          0\n",
       "Close        0\n",
       "Adj Close    0\n",
       "Volume       0\n",
       "dtype: int64"
      ]
     },
     "execution_count": 43,
     "metadata": {},
     "output_type": "execute_result"
    }
   ],
   "source": [
    "#check for null values\n",
    "data.isnull().sum()"
   ]
  },
  {
   "cell_type": "code",
   "execution_count": 44,
   "id": "01df04c6",
   "metadata": {},
   "outputs": [
    {
     "name": "stdout",
     "output_type": "stream",
     "text": [
      "<class 'pandas._libs.tslibs.timestamps.Timestamp'>\n"
     ]
    }
   ],
   "source": [
    "#sort with date\n",
    "data['Date']=pd.to_datetime(data['Date'])\n",
    "print(type(data.Date[0]))"
   ]
  },
  {
   "cell_type": "code",
   "execution_count": 45,
   "id": "633f8e01",
   "metadata": {},
   "outputs": [
    {
     "data": {
      "text/html": [
       "<div>\n",
       "<style scoped>\n",
       "    .dataframe tbody tr th:only-of-type {\n",
       "        vertical-align: middle;\n",
       "    }\n",
       "\n",
       "    .dataframe tbody tr th {\n",
       "        vertical-align: top;\n",
       "    }\n",
       "\n",
       "    .dataframe thead th {\n",
       "        text-align: right;\n",
       "    }\n",
       "</style>\n",
       "<table border=\"1\" class=\"dataframe\">\n",
       "  <thead>\n",
       "    <tr style=\"text-align: right;\">\n",
       "      <th></th>\n",
       "      <th>Date</th>\n",
       "      <th>Open</th>\n",
       "      <th>High</th>\n",
       "      <th>Low</th>\n",
       "      <th>Close</th>\n",
       "      <th>Adj Close</th>\n",
       "      <th>Volume</th>\n",
       "    </tr>\n",
       "  </thead>\n",
       "  <tbody>\n",
       "    <tr>\n",
       "      <th>0</th>\n",
       "      <td>2018-02-05</td>\n",
       "      <td>262.000000</td>\n",
       "      <td>267.899994</td>\n",
       "      <td>250.029999</td>\n",
       "      <td>254.259995</td>\n",
       "      <td>254.259995</td>\n",
       "      <td>11896100</td>\n",
       "    </tr>\n",
       "    <tr>\n",
       "      <th>1</th>\n",
       "      <td>2018-02-06</td>\n",
       "      <td>247.699997</td>\n",
       "      <td>266.700012</td>\n",
       "      <td>245.000000</td>\n",
       "      <td>265.720001</td>\n",
       "      <td>265.720001</td>\n",
       "      <td>12595800</td>\n",
       "    </tr>\n",
       "    <tr>\n",
       "      <th>2</th>\n",
       "      <td>2018-02-07</td>\n",
       "      <td>266.579987</td>\n",
       "      <td>272.450012</td>\n",
       "      <td>264.329987</td>\n",
       "      <td>264.559998</td>\n",
       "      <td>264.559998</td>\n",
       "      <td>8981500</td>\n",
       "    </tr>\n",
       "    <tr>\n",
       "      <th>3</th>\n",
       "      <td>2018-02-08</td>\n",
       "      <td>267.079987</td>\n",
       "      <td>267.619995</td>\n",
       "      <td>250.000000</td>\n",
       "      <td>250.100006</td>\n",
       "      <td>250.100006</td>\n",
       "      <td>9306700</td>\n",
       "    </tr>\n",
       "    <tr>\n",
       "      <th>4</th>\n",
       "      <td>2018-02-09</td>\n",
       "      <td>253.850006</td>\n",
       "      <td>255.800003</td>\n",
       "      <td>236.110001</td>\n",
       "      <td>249.470001</td>\n",
       "      <td>249.470001</td>\n",
       "      <td>16906900</td>\n",
       "    </tr>\n",
       "  </tbody>\n",
       "</table>\n",
       "</div>"
      ],
      "text/plain": [
       "        Date        Open        High         Low       Close   Adj Close  \\\n",
       "0 2018-02-05  262.000000  267.899994  250.029999  254.259995  254.259995   \n",
       "1 2018-02-06  247.699997  266.700012  245.000000  265.720001  265.720001   \n",
       "2 2018-02-07  266.579987  272.450012  264.329987  264.559998  264.559998   \n",
       "3 2018-02-08  267.079987  267.619995  250.000000  250.100006  250.100006   \n",
       "4 2018-02-09  253.850006  255.800003  236.110001  249.470001  249.470001   \n",
       "\n",
       "     Volume  \n",
       "0  11896100  \n",
       "1  12595800  \n",
       "2   8981500  \n",
       "3   9306700  \n",
       "4  16906900  "
      ]
     },
     "execution_count": 45,
     "metadata": {},
     "output_type": "execute_result"
    }
   ],
   "source": [
    "df=data.sort_values(by='Date')\n",
    "df.head()"
   ]
  },
  {
   "cell_type": "code",
   "execution_count": 46,
   "id": "e2128eb1",
   "metadata": {},
   "outputs": [],
   "source": [
    "df.reset_index(inplace=True)"
   ]
  },
  {
   "cell_type": "code",
   "execution_count": 47,
   "id": "149f13f5",
   "metadata": {},
   "outputs": [
    {
     "data": {
      "text/html": [
       "<div>\n",
       "<style scoped>\n",
       "    .dataframe tbody tr th:only-of-type {\n",
       "        vertical-align: middle;\n",
       "    }\n",
       "\n",
       "    .dataframe tbody tr th {\n",
       "        vertical-align: top;\n",
       "    }\n",
       "\n",
       "    .dataframe thead th {\n",
       "        text-align: right;\n",
       "    }\n",
       "</style>\n",
       "<table border=\"1\" class=\"dataframe\">\n",
       "  <thead>\n",
       "    <tr style=\"text-align: right;\">\n",
       "      <th></th>\n",
       "      <th>index</th>\n",
       "      <th>Date</th>\n",
       "      <th>Open</th>\n",
       "      <th>High</th>\n",
       "      <th>Low</th>\n",
       "      <th>Close</th>\n",
       "      <th>Adj Close</th>\n",
       "      <th>Volume</th>\n",
       "    </tr>\n",
       "  </thead>\n",
       "  <tbody>\n",
       "    <tr>\n",
       "      <th>0</th>\n",
       "      <td>0</td>\n",
       "      <td>2018-02-05</td>\n",
       "      <td>262.000000</td>\n",
       "      <td>267.899994</td>\n",
       "      <td>250.029999</td>\n",
       "      <td>254.259995</td>\n",
       "      <td>254.259995</td>\n",
       "      <td>11896100</td>\n",
       "    </tr>\n",
       "    <tr>\n",
       "      <th>1</th>\n",
       "      <td>1</td>\n",
       "      <td>2018-02-06</td>\n",
       "      <td>247.699997</td>\n",
       "      <td>266.700012</td>\n",
       "      <td>245.000000</td>\n",
       "      <td>265.720001</td>\n",
       "      <td>265.720001</td>\n",
       "      <td>12595800</td>\n",
       "    </tr>\n",
       "    <tr>\n",
       "      <th>2</th>\n",
       "      <td>2</td>\n",
       "      <td>2018-02-07</td>\n",
       "      <td>266.579987</td>\n",
       "      <td>272.450012</td>\n",
       "      <td>264.329987</td>\n",
       "      <td>264.559998</td>\n",
       "      <td>264.559998</td>\n",
       "      <td>8981500</td>\n",
       "    </tr>\n",
       "    <tr>\n",
       "      <th>3</th>\n",
       "      <td>3</td>\n",
       "      <td>2018-02-08</td>\n",
       "      <td>267.079987</td>\n",
       "      <td>267.619995</td>\n",
       "      <td>250.000000</td>\n",
       "      <td>250.100006</td>\n",
       "      <td>250.100006</td>\n",
       "      <td>9306700</td>\n",
       "    </tr>\n",
       "    <tr>\n",
       "      <th>4</th>\n",
       "      <td>4</td>\n",
       "      <td>2018-02-09</td>\n",
       "      <td>253.850006</td>\n",
       "      <td>255.800003</td>\n",
       "      <td>236.110001</td>\n",
       "      <td>249.470001</td>\n",
       "      <td>249.470001</td>\n",
       "      <td>16906900</td>\n",
       "    </tr>\n",
       "  </tbody>\n",
       "</table>\n",
       "</div>"
      ],
      "text/plain": [
       "   index       Date        Open        High         Low       Close  \\\n",
       "0      0 2018-02-05  262.000000  267.899994  250.029999  254.259995   \n",
       "1      1 2018-02-06  247.699997  266.700012  245.000000  265.720001   \n",
       "2      2 2018-02-07  266.579987  272.450012  264.329987  264.559998   \n",
       "3      3 2018-02-08  267.079987  267.619995  250.000000  250.100006   \n",
       "4      4 2018-02-09  253.850006  255.800003  236.110001  249.470001   \n",
       "\n",
       "    Adj Close    Volume  \n",
       "0  254.259995  11896100  \n",
       "1  265.720001  12595800  \n",
       "2  264.559998   8981500  \n",
       "3  250.100006   9306700  \n",
       "4  249.470001  16906900  "
      ]
     },
     "execution_count": 47,
     "metadata": {},
     "output_type": "execute_result"
    }
   ],
   "source": [
    "df.head()"
   ]
  },
  {
   "cell_type": "code",
   "execution_count": 48,
   "id": "a8398b21",
   "metadata": {},
   "outputs": [
    {
     "data": {
      "text/plain": [
       "[<matplotlib.lines.Line2D at 0x1f48e43f3d0>]"
      ]
     },
     "execution_count": 48,
     "metadata": {},
     "output_type": "execute_result"
    },
    {
     "data": {
      "image/png": "[encoded data removed]",
      "text/plain": [
       "<Figure size 640x480 with 1 Axes>"
      ]
     },
     "metadata": {},
     "output_type": "display_data"
    }
   ],
   "source": [
    "plt.plot(df['Close'])"
   ]
  },
  {
   "cell_type": "code",
   "execution_count": 49,
   "id": "66dbae60",
   "metadata": {},
   "outputs": [],
   "source": [
    "df1=df['Close']"
   ]
  },
  {
   "cell_type": "markdown",
   "id": "7dafa574",
   "metadata": {},
   "source": [
    "# PREPARE DATA"
   ]
  },
  {
   "cell_type": "code",
   "execution_count": 50,
   "id": "3a373490",
   "metadata": {},
   "outputs": [
    {
     "data": {
      "text/plain": [
       "array([[0.04451626],\n",
       "       [0.06954849],\n",
       "       [0.06701469],\n",
       "       ...,\n",
       "       [0.4272515 ],\n",
       "       [0.37509011],\n",
       "       [0.38507243]])"
      ]
     },
     "execution_count": 50,
     "metadata": {},
     "output_type": "execute_result"
    }
   ],
   "source": [
    "##LSTM Are Sensitive to the scale of the data, therefore applying MinMax scaler\n",
    "scaler=MinMaxScaler(feature_range=(0,1))\n",
    "df1=scaler.fit_transform(np.array(df1).reshape(-1,1))\n",
    "df1"
   ]
  },
  {
   "cell_type": "code",
   "execution_count": 51,
   "id": "4b0be238",
   "metadata": {},
   "outputs": [],
   "source": [
    "##splitting dataset into train and test split \n",
    "training_size=int(len(df1)*0.70)\n",
    "test_size=len(df1)-training_size\n",
    "train_data,test_data=df1[0:training_size,:],df1[training_size:len(df1),:1]"
   ]
  },
  {
   "cell_type": "code",
   "execution_count": 52,
   "id": "d5df4bea",
   "metadata": {},
   "outputs": [
    {
     "data": {
      "text/plain": [
       "(706, 303)"
      ]
     },
     "execution_count": 52,
     "metadata": {},
     "output_type": "execute_result"
    }
   ],
   "source": [
    "training_size,test_size"
   ]
  },
  {
   "cell_type": "code",
   "execution_count": 53,
   "id": "8d80257a",
   "metadata": {},
   "outputs": [],
   "source": [
    "#convert an array of values into a dataset matrix\n",
    "def create_dataset(dataset, time_step=1):\n",
    "    dataX, dataY = [], []\n",
    "    for i in range(len(dataset)-time_step-1):\n",
    "            a= dataset[i:(i+time_step) ,0] ###i=0, 0,1,2,3---99 100\n",
    "            dataX.append(a)\n",
    "            dataY.append(dataset[i + time_step , 0])\n",
    "    return np.array(dataX) ,np.array(dataY)  "
   ]
  },
  {
   "cell_type": "code",
   "execution_count": 54,
   "id": "32352244",
   "metadata": {},
   "outputs": [],
   "source": [
    "# reshape into X=t,t+1,t+2,t+3 and Y=t+4\n",
    "time_step = 100\n",
    "X_train, y_train = create_dataset(train_data, time_step)\n",
    "X_test, ytest = create_dataset(test_data, time_step)"
   ]
  },
  {
   "cell_type": "code",
   "execution_count": 55,
   "id": "e6b875a6",
   "metadata": {},
   "outputs": [
    {
     "name": "stdout",
     "output_type": "stream",
     "text": [
      "(605, 100)\n",
      "(605,)\n"
     ]
    },
    {
     "data": {
      "text/plain": [
       "(None, None)"
      ]
     },
     "execution_count": 55,
     "metadata": {},
     "output_type": "execute_result"
    }
   ],
   "source": [
    "print(X_train.shape), print(y_train.shape)"
   ]
  },
  {
   "cell_type": "code",
   "execution_count": 56,
   "id": "73e5923a",
   "metadata": {},
   "outputs": [
    {
     "name": "stdout",
     "output_type": "stream",
     "text": [
      "(202, 100)\n",
      "(202,)\n"
     ]
    },
    {
     "data": {
      "text/plain": [
       "(None, None)"
      ]
     },
     "execution_count": 56,
     "metadata": {},
     "output_type": "execute_result"
    }
   ],
   "source": [
    "print(X_test.shape), print(ytest.shape)"
   ]
  },
  {
   "cell_type": "code",
   "execution_count": 57,
   "id": "5b4beef7",
   "metadata": {},
   "outputs": [],
   "source": [
    "#reshape input to be[samples, time steps, features] which is required for LSTM\n",
    "X_train = X_train.reshape(X_train.shape[0],X_train.shape[1] ,1)\n",
    "X_test = X_test.reshape(X_test.shape[0], X_test.shape[1] , 1)"
   ]
  },
  {
   "cell_type": "markdown",
   "id": "6092c66e",
   "metadata": {},
   "source": [
    "### MODEL BUILDING"
   ]
  },
  {
   "cell_type": "code",
   "execution_count": 58,
   "id": "2fe02891",
   "metadata": {},
   "outputs": [],
   "source": [
    "### Create the Stacked LSTM model\n",
    "from tensorflow.keras.models import Sequential\n",
    "from tensorflow.keras.layers import Dense\n",
    "from tensorflow.keras.layers import LSTM"
   ]
  },
  {
   "cell_type": "code",
   "execution_count": 59,
   "id": "c014b196",
   "metadata": {},
   "outputs": [
    {
     "name": "stdout",
     "output_type": "stream",
     "text": [
      "Model: \"sequential_1\"\n",
      "_________________________________________________________________\n",
      " Layer (type)                Output Shape              Param #   \n",
      "=================================================================\n",
      " lstm_3 (LSTM)               (None, 100, 50)           10400     \n",
      "                                                                 \n",
      " lstm_4 (LSTM)               (None, 100, 50)           20200     \n",
      "                                                                 \n",
      " lstm_5 (LSTM)               (None, 50)                20200     \n",
      "                                                                 \n",
      " dense_1 (Dense)             (None, 1)                 51        \n",
      "                                                                 \n",
      "=================================================================\n",
      "Total params: 50851 (198.64 KB)\n",
      "Trainable params: 50851 (198.64 KB)\n",
      "Non-trainable params: 0 (0.00 Byte)\n",
      "_________________________________________________________________\n"
     ]
    }
   ],
   "source": [
    "model = Sequential()\n",
    "model.add(LSTM(50,return_sequences=True,input_shape=(100,1)))\n",
    "model.add(LSTM(50,return_sequences=True))\n",
    "model.add(LSTM(50))\n",
    "model.add(Dense(1))\n",
    "model.compile(loss='mean_squared_error',optimizer='adam')\n",
    "model.summary()"
   ]
  },
  {
   "cell_type": "code",
   "execution_count": 60,
   "id": "cd59e1e9",
   "metadata": {},
   "outputs": [
    {
     "name": "stdout",
     "output_type": "stream",
     "text": [
      "Epoch 1/60\n",
      "9/9 [==============================] - 11s 339ms/step - loss: 0.0338 - val_loss: 0.0073\n",
      "Epoch 2/60\n",
      "9/9 [==============================] - 1s 163ms/step - loss: 0.0080 - val_loss: 0.0210\n",
      "Epoch 3/60\n",
      "9/9 [==============================] - 1s 159ms/step - loss: 0.0052 - val_loss: 0.0075\n",
      "Epoch 4/60\n",
      "9/9 [==============================] - 1s 160ms/step - loss: 0.0040 - val_loss: 0.0051\n",
      "Epoch 5/60\n",
      "9/9 [==============================] - 1s 158ms/step - loss: 0.0034 - val_loss: 0.0061\n",
      "Epoch 6/60\n",
      "9/9 [==============================] - 1s 160ms/step - loss: 0.0030 - val_loss: 0.0076\n",
      "Epoch 7/60\n",
      "9/9 [==============================] - 1s 165ms/step - loss: 0.0027 - val_loss: 0.0048\n",
      "Epoch 8/60\n",
      "9/9 [==============================] - 2s 178ms/step - loss: 0.0025 - val_loss: 0.0048\n",
      "Epoch 9/60\n",
      "9/9 [==============================] - 2s 182ms/step - loss: 0.0024 - val_loss: 0.0048\n",
      "Epoch 10/60\n",
      "9/9 [==============================] - 2s 196ms/step - loss: 0.0025 - val_loss: 0.0059\n",
      "Epoch 11/60\n",
      "9/9 [==============================] - 2s 199ms/step - loss: 0.0023 - val_loss: 0.0050\n",
      "Epoch 12/60\n",
      "9/9 [==============================] - 2s 199ms/step - loss: 0.0022 - val_loss: 0.0051\n",
      "Epoch 13/60\n",
      "9/9 [==============================] - 2s 199ms/step - loss: 0.0022 - val_loss: 0.0053\n",
      "Epoch 14/60\n",
      "9/9 [==============================] - 2s 201ms/step - loss: 0.0021 - val_loss: 0.0056\n",
      "Epoch 15/60\n",
      "9/9 [==============================] - 2s 198ms/step - loss: 0.0020 - val_loss: 0.0059\n",
      "Epoch 16/60\n",
      "9/9 [==============================] - 2s 199ms/step - loss: 0.0021 - val_loss: 0.0061\n",
      "Epoch 17/60\n",
      "9/9 [==============================] - 2s 198ms/step - loss: 0.0020 - val_loss: 0.0061\n",
      "Epoch 18/60\n",
      "9/9 [==============================] - 2s 199ms/step - loss: 0.0020 - val_loss: 0.0067\n",
      "Epoch 19/60\n",
      "9/9 [==============================] - 2s 198ms/step - loss: 0.0019 - val_loss: 0.0060\n",
      "Epoch 20/60\n",
      "9/9 [==============================] - 2s 201ms/step - loss: 0.0019 - val_loss: 0.0057\n",
      "Epoch 21/60\n",
      "9/9 [==============================] - 2s 198ms/step - loss: 0.0019 - val_loss: 0.0056\n",
      "Epoch 22/60\n",
      "9/9 [==============================] - 2s 199ms/step - loss: 0.0018 - val_loss: 0.0057\n",
      "Epoch 23/60\n",
      "9/9 [==============================] - 2s 196ms/step - loss: 0.0018 - val_loss: 0.0055\n",
      "Epoch 24/60\n",
      "9/9 [==============================] - 2s 197ms/step - loss: 0.0018 - val_loss: 0.0054\n",
      "Epoch 25/60\n",
      "9/9 [==============================] - 2s 199ms/step - loss: 0.0018 - val_loss: 0.0053\n",
      "Epoch 26/60\n",
      "9/9 [==============================] - 2s 197ms/step - loss: 0.0018 - val_loss: 0.0053\n",
      "Epoch 27/60\n",
      "9/9 [==============================] - 2s 199ms/step - loss: 0.0017 - val_loss: 0.0068\n",
      "Epoch 28/60\n",
      "9/9 [==============================] - 2s 198ms/step - loss: 0.0019 - val_loss: 0.0048\n",
      "Epoch 29/60\n",
      "9/9 [==============================] - 2s 197ms/step - loss: 0.0018 - val_loss: 0.0046\n",
      "Epoch 30/60\n",
      "9/9 [==============================] - 2s 198ms/step - loss: 0.0018 - val_loss: 0.0048\n",
      "Epoch 31/60\n",
      "9/9 [==============================] - 2s 201ms/step - loss: 0.0019 - val_loss: 0.0043\n",
      "Epoch 32/60\n",
      "9/9 [==============================] - 2s 199ms/step - loss: 0.0018 - val_loss: 0.0042\n",
      "Epoch 33/60\n",
      "9/9 [==============================] - 2s 201ms/step - loss: 0.0017 - val_loss: 0.0043\n",
      "Epoch 34/60\n",
      "9/9 [==============================] - 2s 202ms/step - loss: 0.0017 - val_loss: 0.0042\n",
      "Epoch 35/60\n",
      "9/9 [==============================] - 2s 203ms/step - loss: 0.0016 - val_loss: 0.0041\n",
      "Epoch 36/60\n",
      "9/9 [==============================] - 2s 197ms/step - loss: 0.0016 - val_loss: 0.0040\n",
      "Epoch 37/60\n",
      "9/9 [==============================] - 2s 197ms/step - loss: 0.0016 - val_loss: 0.0040\n",
      "Epoch 38/60\n",
      "9/9 [==============================] - 2s 199ms/step - loss: 0.0016 - val_loss: 0.0046\n",
      "Epoch 39/60\n",
      "9/9 [==============================] - 2s 198ms/step - loss: 0.0016 - val_loss: 0.0039\n",
      "Epoch 40/60\n",
      "9/9 [==============================] - 2s 202ms/step - loss: 0.0016 - val_loss: 0.0036\n",
      "Epoch 41/60\n",
      "9/9 [==============================] - 2s 202ms/step - loss: 0.0015 - val_loss: 0.0037\n",
      "Epoch 42/60\n",
      "9/9 [==============================] - 2s 204ms/step - loss: 0.0015 - val_loss: 0.0043\n",
      "Epoch 43/60\n",
      "9/9 [==============================] - 2s 195ms/step - loss: 0.0015 - val_loss: 0.0035\n",
      "Epoch 44/60\n",
      "9/9 [==============================] - 2s 195ms/step - loss: 0.0017 - val_loss: 0.0032\n",
      "Epoch 45/60\n",
      "9/9 [==============================] - 2s 197ms/step - loss: 0.0015 - val_loss: 0.0040\n",
      "Epoch 46/60\n",
      "9/9 [==============================] - 2s 194ms/step - loss: 0.0015 - val_loss: 0.0035\n",
      "Epoch 47/60\n",
      "9/9 [==============================] - 2s 194ms/step - loss: 0.0014 - val_loss: 0.0032\n",
      "Epoch 48/60\n",
      "9/9 [==============================] - 2s 198ms/step - loss: 0.0014 - val_loss: 0.0041\n",
      "Epoch 49/60\n",
      "9/9 [==============================] - 2s 195ms/step - loss: 0.0015 - val_loss: 0.0039\n",
      "Epoch 50/60\n",
      "9/9 [==============================] - 2s 196ms/step - loss: 0.0014 - val_loss: 0.0031\n",
      "Epoch 51/60\n",
      "9/9 [==============================] - 2s 195ms/step - loss: 0.0014 - val_loss: 0.0027\n",
      "Epoch 52/60\n",
      "9/9 [==============================] - 2s 196ms/step - loss: 0.0014 - val_loss: 0.0027\n",
      "Epoch 53/60\n",
      "9/9 [==============================] - 2s 198ms/step - loss: 0.0014 - val_loss: 0.0033\n",
      "Epoch 54/60\n",
      "9/9 [==============================] - 2s 198ms/step - loss: 0.0014 - val_loss: 0.0042\n",
      "Epoch 55/60\n",
      "9/9 [==============================] - 2s 196ms/step - loss: 0.0014 - val_loss: 0.0025\n",
      "Epoch 56/60\n",
      "9/9 [==============================] - 2s 196ms/step - loss: 0.0013 - val_loss: 0.0023\n",
      "Epoch 57/60\n",
      "9/9 [==============================] - 2s 201ms/step - loss: 0.0013 - val_loss: 0.0027\n",
      "Epoch 58/60\n",
      "9/9 [==============================] - 2s 198ms/step - loss: 0.0013 - val_loss: 0.0027\n",
      "Epoch 59/60\n",
      "9/9 [==============================] - 2s 204ms/step - loss: 0.0013 - val_loss: 0.0031\n",
      "Epoch 60/60\n",
      "9/9 [==============================] - 2s 187ms/step - loss: 0.0013 - val_loss: 0.0021\n"
     ]
    },
    {
     "data": {
      "text/plain": [
       "<keras.src.callbacks.History at 0x1f4919a8950>"
      ]
     },
     "execution_count": 60,
     "metadata": {},
     "output_type": "execute_result"
    }
   ],
   "source": [
    "model.fit(X_train,y_train,validation_split=0.1,epochs=60,batch_size=64,verbose=1)"
   ]
  },
  {
   "cell_type": "code",
   "execution_count": 61,
   "id": "93e5ab90",
   "metadata": {},
   "outputs": [
    {
     "name": "stdout",
     "output_type": "stream",
     "text": [
      "7/7 [==============================] - 1s 31ms/step\n"
     ]
    }
   ],
   "source": [
    "## lets do the prediction and check performance metrics\n",
    "test_predict= model.predict(X_test)"
   ]
  },
  {
   "cell_type": "code",
   "execution_count": 62,
   "id": "76963f37",
   "metadata": {},
   "outputs": [],
   "source": [
    "## Transform back to original form\n",
    "test_predict1=scaler.inverse_transform(test_predict)"
   ]
  },
  {
   "cell_type": "code",
   "execution_count": 63,
   "id": "17d8aa3f",
   "metadata": {},
   "outputs": [
    {
     "data": {
      "text/plain": [
       "array([[552.468  ],\n",
       "       [551.8589 ],\n",
       "       [546.15356],\n",
       "       [537.67883],\n",
       "       [528.38245],\n",
       "       [520.6171 ],\n",
       "       [514.46326],\n",
       "       [510.27643],\n",
       "       [508.2007 ],\n",
       "       [508.30112],\n",
       "       [509.28543],\n",
       "       [509.90924],\n",
       "       [509.2627 ],\n",
       "       [508.22247],\n",
       "       [507.659  ],\n",
       "       [505.5269 ],\n",
       "       [503.46548],\n",
       "       [500.60968],\n",
       "       [497.70807],\n",
       "       [495.9413 ],\n",
       "       [494.69586],\n",
       "       [493.552  ],\n",
       "       [492.6877 ],\n",
       "       [493.71332],\n",
       "       [495.55093],\n",
       "       [498.18173],\n",
       "       [500.78458],\n",
       "       [503.06424],\n",
       "       [504.9682 ],\n",
       "       [506.23813],\n",
       "       [506.44574],\n",
       "       [505.88937],\n",
       "       [503.73605],\n",
       "       [501.3513 ],\n",
       "       [499.19672],\n",
       "       [497.23077],\n",
       "       [494.83426],\n",
       "       [492.5415 ],\n",
       "       [490.79645],\n",
       "       [490.96085],\n",
       "       [491.55872],\n",
       "       [492.29984],\n",
       "       [493.68713],\n",
       "       [495.66815],\n",
       "       [497.36676],\n",
       "       [499.99304],\n",
       "       [503.49146],\n",
       "       [507.79337],\n",
       "       [513.17926],\n",
       "       [519.3608 ],\n",
       "       [525.3102 ],\n",
       "       [529.56946],\n",
       "       [532.69214],\n",
       "       [534.75946],\n",
       "       [536.8669 ],\n",
       "       [538.0926 ],\n",
       "       [537.856  ],\n",
       "       [537.3225 ],\n",
       "       [536.9351 ],\n",
       "       [537.1843 ],\n",
       "       [538.79395],\n",
       "       [540.4882 ],\n",
       "       [540.3045 ],\n",
       "       [539.0687 ],\n",
       "       [537.2648 ],\n",
       "       [533.22955],\n",
       "       [528.0249 ],\n",
       "       [523.3338 ],\n",
       "       [519.8944 ],\n",
       "       [518.0988 ],\n",
       "       [517.6873 ],\n",
       "       [517.5888 ],\n",
       "       [518.0356 ],\n",
       "       [518.50616],\n",
       "       [518.3837 ],\n",
       "       [518.6612 ],\n",
       "       [520.1853 ],\n",
       "       [521.88336],\n",
       "       [523.3212 ],\n",
       "       [523.83453],\n",
       "       [523.19073],\n",
       "       [521.6459 ],\n",
       "       [520.374  ],\n",
       "       [519.77924],\n",
       "       [519.8499 ],\n",
       "       [520.6853 ],\n",
       "       [524.60333],\n",
       "       [530.6104 ],\n",
       "       [537.9393 ],\n",
       "       [545.067  ],\n",
       "       [550.1959 ],\n",
       "       [553.504  ],\n",
       "       [556.352  ],\n",
       "       [559.59393],\n",
       "       [563.1173 ],\n",
       "       [568.0281 ],\n",
       "       [574.0578 ],\n",
       "       [580.17126],\n",
       "       [587.57477],\n",
       "       [594.68225],\n",
       "       [599.26807],\n",
       "       [601.6283 ],\n",
       "       [600.99347],\n",
       "       [597.045  ],\n",
       "       [592.44714],\n",
       "       [588.8754 ],\n",
       "       [587.0307 ],\n",
       "       [584.69354],\n",
       "       [582.01495],\n",
       "       [581.9778 ],\n",
       "       [584.1829 ],\n",
       "       [587.40015],\n",
       "       [590.78766],\n",
       "       [592.5745 ],\n",
       "       [595.1796 ],\n",
       "       [599.67566],\n",
       "       [605.1999 ],\n",
       "       [609.13525],\n",
       "       [615.7891 ],\n",
       "       [623.9515 ],\n",
       "       [630.692  ],\n",
       "       [635.4387 ],\n",
       "       [637.3738 ],\n",
       "       [636.99805],\n",
       "       [636.06116],\n",
       "       [635.64404],\n",
       "       [634.8834 ],\n",
       "       [635.41455],\n",
       "       [636.86414],\n",
       "       [636.6357 ],\n",
       "       [639.43024],\n",
       "       [645.52057],\n",
       "       [653.67053],\n",
       "       [661.20483],\n",
       "       [666.1965 ],\n",
       "       [670.4746 ],\n",
       "       [676.1813 ],\n",
       "       [680.5377 ],\n",
       "       [682.77765],\n",
       "       [684.99347],\n",
       "       [683.9557 ],\n",
       "       [677.8024 ],\n",
       "       [670.6745 ],\n",
       "       [665.1252 ],\n",
       "       [660.2611 ],\n",
       "       [658.2111 ],\n",
       "       [661.93634],\n",
       "       [668.0751 ],\n",
       "       [675.70544],\n",
       "       [683.5462 ],\n",
       "       [688.7346 ],\n",
       "       [690.9876 ],\n",
       "       [688.3064 ],\n",
       "       [682.54   ],\n",
       "       [676.77997],\n",
       "       [673.2537 ],\n",
       "       [671.42474],\n",
       "       [667.6047 ],\n",
       "       [659.61475],\n",
       "       [650.34485],\n",
       "       [639.9627 ],\n",
       "       [632.2    ],\n",
       "       [629.1872 ],\n",
       "       [629.8921 ],\n",
       "       [630.2007 ],\n",
       "       [630.1081 ],\n",
       "       [628.7657 ],\n",
       "       [625.9408 ],\n",
       "       [623.6531 ],\n",
       "       [620.1557 ],\n",
       "       [615.7553 ],\n",
       "       [612.4036 ],\n",
       "       [611.7734 ],\n",
       "       [614.20044],\n",
       "       [618.02844],\n",
       "       [621.7958 ],\n",
       "       [624.422  ],\n",
       "       [625.7853 ],\n",
       "       [626.3197 ],\n",
       "       [624.8697 ],\n",
       "       [621.6192 ],\n",
       "       [616.8611 ],\n",
       "       [608.5984 ],\n",
       "       [597.4106 ],\n",
       "       [584.49347],\n",
       "       [572.32623],\n",
       "       [562.5863 ],\n",
       "       [555.27106],\n",
       "       [548.08075],\n",
       "       [542.575  ],\n",
       "       [537.01   ],\n",
       "       [532.64294],\n",
       "       [528.69305],\n",
       "       [512.11487],\n",
       "       [487.95648],\n",
       "       [460.24542],\n",
       "       [433.28687],\n",
       "       [412.49048],\n",
       "       [397.85138],\n",
       "       [392.37027],\n",
       "       [396.69138],\n",
       "       [405.1836 ]], dtype=float32)"
      ]
     },
     "execution_count": 63,
     "metadata": {},
     "output_type": "execute_result"
    }
   ],
   "source": [
    "test_predict1"
   ]
  },
  {
   "cell_type": "code",
   "execution_count": 64,
   "id": "1dcb625a",
   "metadata": {},
   "outputs": [
    {
     "data": {
      "text/plain": [
       "0.05513043809514566"
      ]
     },
     "execution_count": 64,
     "metadata": {},
     "output_type": "execute_result"
    }
   ],
   "source": [
    "##calculate RMSE performance metrics\n",
    "import math\n",
    "from sklearn.metrics import mean_squared_error\n",
    "math.sqrt(mean_squared_error(ytest,test_predict))"
   ]
  },
  {
   "cell_type": "code",
   "execution_count": null,
   "id": "7ee3cd3c",
   "metadata": {},
   "outputs": [],
   "source": []
  }
 ],
 "metadata": {
  "kernelspec": {
   "display_name": "Python 3 (ipykernel)",
   "language": "python",
   "name": "python3"
  },
  "language_info": {
   "codemirror_mode": {
    "name": "ipython",
    "version": 3
   },
   "file_extension": ".py",
   "mimetype": "text/x-python",
   "name": "python",
   "nbconvert_exporter": "python",
   "pygments_lexer": "ipython3",
   "version": "3.11.4"
  }
 },
 "nbformat": 4,
 "nbformat_minor": 5
}
